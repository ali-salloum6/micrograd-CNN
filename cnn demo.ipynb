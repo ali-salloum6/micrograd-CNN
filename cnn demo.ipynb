{
 "cells": [
  {
   "cell_type": "markdown",
   "metadata": {},
   "source": [
    "###  CNN MicroGrad demo"
   ]
  },
  {
   "cell_type": "code",
   "execution_count": 2,
   "metadata": {},
   "outputs": [
    {
     "name": "stderr",
     "output_type": "stream",
     "text": [
      "2023-12-01 14:54:27.393728: I tensorflow/core/platform/cpu_feature_guard.cc:193] This TensorFlow binary is optimized with oneAPI Deep Neural Network Library (oneDNN) to use the following CPU instructions in performance-critical operations:  AVX2 FMA\n",
      "To enable them in other operations, rebuild TensorFlow with the appropriate compiler flags.\n",
      "2023-12-01 14:54:28.143559: W tensorflow/compiler/xla/stream_executor/platform/default/dso_loader.cc:64] Could not load dynamic library 'libcudart.so.11.0'; dlerror: libcudart.so.11.0: cannot open shared object file: No such file or directory\n",
      "2023-12-01 14:54:28.143583: I tensorflow/compiler/xla/stream_executor/cuda/cudart_stub.cc:29] Ignore above cudart dlerror if you do not have a GPU set up on your machine.\n",
      "2023-12-01 14:54:30.456362: W tensorflow/compiler/xla/stream_executor/platform/default/dso_loader.cc:64] Could not load dynamic library 'libnvinfer.so.7'; dlerror: libnvinfer.so.7: cannot open shared object file: No such file or directory\n",
      "2023-12-01 14:54:30.456872: W tensorflow/compiler/xla/stream_executor/platform/default/dso_loader.cc:64] Could not load dynamic library 'libnvinfer_plugin.so.7'; dlerror: libnvinfer_plugin.so.7: cannot open shared object file: No such file or directory\n",
      "2023-12-01 14:54:30.456891: W tensorflow/compiler/tf2tensorrt/utils/py_utils.cc:38] TF-TRT Warning: Cannot dlopen some TensorRT libraries. If you would like to use Nvidia GPU with TensorRT, please make sure the missing libraries mentioned above are installed properly.\n"
     ]
    }
   ],
   "source": [
    "from micrograd.engine import Value\n",
    "from micrograd.nn import Convolution, CNN, MLP, Neuron\n",
    "from keras.datasets import mnist\n",
    "import numpy as np"
   ]
  },
  {
   "cell_type": "code",
   "execution_count": 3,
   "metadata": {},
   "outputs": [],
   "source": [
    "(train_X, train_y), (test_X, test_y) = mnist.load_data()"
   ]
  },
  {
   "cell_type": "code",
   "execution_count": 4,
   "metadata": {},
   "outputs": [
    {
     "data": {
      "text/plain": [
       "(60000, 1, 28, 28)"
      ]
     },
     "execution_count": 4,
     "metadata": {},
     "output_type": "execute_result"
    }
   ],
   "source": [
    "train_X = np.expand_dims(train_X, axis=1)\n",
    "test_X = np.expand_dims(test_X, axis=1)\n",
    "train_X.shape"
   ]
  },
  {
   "cell_type": "code",
   "execution_count": 5,
   "metadata": {},
   "outputs": [
    {
     "ename": "AssertionError",
     "evalue": "input shape to neuron mismatch, expected 1250 but got 3750",
     "output_type": "error",
     "traceback": [
      "\u001b[0;31m---------------------------------------------------------------------------\u001b[0m",
      "\u001b[0;31mAssertionError\u001b[0m                            Traceback (most recent call last)",
      "\u001b[1;32m/home/ali/Devlopment/AI/micrograd-CNN/cnn demo.ipynb Cell 5\u001b[0m line \u001b[0;36m3\n\u001b[1;32m      <a href='vscode-notebook-cell:/home/ali/Devlopment/AI/micrograd-CNN/cnn%20demo.ipynb#W4sZmlsZQ%3D%3D?line=0'>1</a>\u001b[0m mlp \u001b[39m=\u001b[39m MLP(\u001b[39m1250\u001b[39m, [\u001b[39m64\u001b[39m, \u001b[39m10\u001b[39m])\n\u001b[1;32m      <a href='vscode-notebook-cell:/home/ali/Devlopment/AI/micrograd-CNN/cnn%20demo.ipynb#W4sZmlsZQ%3D%3D?line=1'>2</a>\u001b[0m my_cnn \u001b[39m=\u001b[39m CNN([Convolution(\u001b[39m1\u001b[39m, \u001b[39m3\u001b[39m, kernel_size\u001b[39m=\u001b[39m\u001b[39m3\u001b[39m), Convolution(\u001b[39m3\u001b[39m, \u001b[39m2\u001b[39m, kernel_size\u001b[39m=\u001b[39m\u001b[39m2\u001b[39m)], mlp, is_softmax\u001b[39m=\u001b[39m\u001b[39mTrue\u001b[39;00m)\n\u001b[0;32m----> <a href='vscode-notebook-cell:/home/ali/Devlopment/AI/micrograd-CNN/cnn%20demo.ipynb#W4sZmlsZQ%3D%3D?line=2'>3</a>\u001b[0m out \u001b[39m=\u001b[39m my_cnn(train_X[:\u001b[39m3\u001b[39;49m])\n",
      "File \u001b[0;32m~/Devlopment/AI/micrograd-CNN/micrograd/nn.py:154\u001b[0m, in \u001b[0;36mCNN.__call__\u001b[0;34m(self, x)\u001b[0m\n\u001b[1;32m    152\u001b[0m     x \u001b[39m=\u001b[39m \u001b[39mself\u001b[39m\u001b[39m.\u001b[39mconv_layers[i](x)\n\u001b[1;32m    153\u001b[0m x \u001b[39m=\u001b[39m x\u001b[39m.\u001b[39mflatten()\n\u001b[0;32m--> 154\u001b[0m x \u001b[39m=\u001b[39m \u001b[39mself\u001b[39;49m\u001b[39m.\u001b[39;49mmlp(x)\n\u001b[1;32m    155\u001b[0m \u001b[39mif\u001b[39;00m \u001b[39mself\u001b[39m\u001b[39m.\u001b[39mis_softmax:\n\u001b[1;32m    156\u001b[0m     x \u001b[39m=\u001b[39m \u001b[39mself\u001b[39m\u001b[39m.\u001b[39m_softmax(x)\n",
      "File \u001b[0;32m~/Devlopment/AI/micrograd-CNN/micrograd/nn.py:58\u001b[0m, in \u001b[0;36mMLP.__call__\u001b[0;34m(self, x)\u001b[0m\n\u001b[1;32m     56\u001b[0m \u001b[39mdef\u001b[39;00m \u001b[39m__call__\u001b[39m(\u001b[39mself\u001b[39m, x):\n\u001b[1;32m     57\u001b[0m     \u001b[39mfor\u001b[39;00m layer \u001b[39min\u001b[39;00m \u001b[39mself\u001b[39m\u001b[39m.\u001b[39mlayers:\n\u001b[0;32m---> 58\u001b[0m         x \u001b[39m=\u001b[39m layer(x)\n\u001b[1;32m     59\u001b[0m     \u001b[39mreturn\u001b[39;00m x\n",
      "File \u001b[0;32m~/Devlopment/AI/micrograd-CNN/micrograd/nn.py:41\u001b[0m, in \u001b[0;36mLayer.__call__\u001b[0;34m(self, x)\u001b[0m\n\u001b[1;32m     40\u001b[0m \u001b[39mdef\u001b[39;00m \u001b[39m__call__\u001b[39m(\u001b[39mself\u001b[39m, x):\n\u001b[0;32m---> 41\u001b[0m     out \u001b[39m=\u001b[39m [n(x) \u001b[39mfor\u001b[39;00m n \u001b[39min\u001b[39;00m \u001b[39mself\u001b[39m\u001b[39m.\u001b[39mneurons]\n\u001b[1;32m     42\u001b[0m     \u001b[39mreturn\u001b[39;00m out[\u001b[39m0\u001b[39m] \u001b[39mif\u001b[39;00m \u001b[39mlen\u001b[39m(out) \u001b[39m==\u001b[39m \u001b[39m1\u001b[39m \u001b[39melse\u001b[39;00m np\u001b[39m.\u001b[39marray(out)\n",
      "File \u001b[0;32m~/Devlopment/AI/micrograd-CNN/micrograd/nn.py:41\u001b[0m, in \u001b[0;36m<listcomp>\u001b[0;34m(.0)\u001b[0m\n\u001b[1;32m     40\u001b[0m \u001b[39mdef\u001b[39;00m \u001b[39m__call__\u001b[39m(\u001b[39mself\u001b[39m, x):\n\u001b[0;32m---> 41\u001b[0m     out \u001b[39m=\u001b[39m [n(x) \u001b[39mfor\u001b[39;00m n \u001b[39min\u001b[39;00m \u001b[39mself\u001b[39m\u001b[39m.\u001b[39mneurons]\n\u001b[1;32m     42\u001b[0m     \u001b[39mreturn\u001b[39;00m out[\u001b[39m0\u001b[39m] \u001b[39mif\u001b[39;00m \u001b[39mlen\u001b[39m(out) \u001b[39m==\u001b[39m \u001b[39m1\u001b[39m \u001b[39melse\u001b[39;00m np\u001b[39m.\u001b[39marray(out)\n",
      "File \u001b[0;32m~/Devlopment/AI/micrograd-CNN/micrograd/nn.py:25\u001b[0m, in \u001b[0;36mNeuron.__call__\u001b[0;34m(self, x)\u001b[0m\n\u001b[1;32m     23\u001b[0m \u001b[39mif\u001b[39;00m \u001b[39mlen\u001b[39m(x\u001b[39m.\u001b[39mshape)\u001b[39m==\u001b[39m\u001b[39m2\u001b[39m:\n\u001b[1;32m     24\u001b[0m     dim \u001b[39m=\u001b[39m x\u001b[39m.\u001b[39mshape[\u001b[39m1\u001b[39m]\n\u001b[0;32m---> 25\u001b[0m \u001b[39massert\u001b[39;00m dim \u001b[39m==\u001b[39m \u001b[39mlen\u001b[39m(\u001b[39mself\u001b[39m\u001b[39m.\u001b[39mw), \u001b[39mf\u001b[39m\u001b[39m\"\u001b[39m\u001b[39minput shape to neuron mismatch, expected \u001b[39m\u001b[39m{\u001b[39;00m\u001b[39mlen\u001b[39m(\u001b[39mself\u001b[39m\u001b[39m.\u001b[39mw)\u001b[39m}\u001b[39;00m\u001b[39m but got \u001b[39m\u001b[39m{\u001b[39;00mdim\u001b[39m}\u001b[39;00m\u001b[39m\"\u001b[39m\n\u001b[1;32m     26\u001b[0m act \u001b[39m=\u001b[39m \u001b[39msum\u001b[39m((wi\u001b[39m*\u001b[39mxi \u001b[39mfor\u001b[39;00m wi,xi \u001b[39min\u001b[39;00m \u001b[39mzip\u001b[39m(\u001b[39mself\u001b[39m\u001b[39m.\u001b[39mw, x)), \u001b[39mself\u001b[39m\u001b[39m.\u001b[39mb)\n\u001b[1;32m     27\u001b[0m \u001b[39mreturn\u001b[39;00m act\u001b[39m.\u001b[39mtanh() \u001b[39mif\u001b[39;00m \u001b[39mself\u001b[39m\u001b[39m.\u001b[39mnonlin \u001b[39melse\u001b[39;00m act\n",
      "\u001b[0;31mAssertionError\u001b[0m: input shape to neuron mismatch, expected 1250 but got 3750"
     ]
    }
   ],
   "source": [
    "mlp = MLP(1250, [64, 10])\n",
    "my_cnn = CNN([Convolution(1, 3, kernel_size=3), Convolution(3, 2, kernel_size=2)], mlp, is_softmax=True)\n",
    "out = my_cnn(train_X[:3])\n",
    "# my_conv = Convolution(1, 2, kernel_size=3)\n",
    "# my_output = my_conv(train_X[:100])\n",
    "# print(my_output.shape)"
   ]
  },
  {
   "cell_type": "code",
   "execution_count": 5,
   "metadata": {},
   "outputs": [
    {
     "data": {
      "text/plain": [
       "Value(data=1.0000000000000002, grad=0)"
      ]
     },
     "execution_count": 5,
     "metadata": {},
     "output_type": "execute_result"
    }
   ],
   "source": [
    "np.sum(out)"
   ]
  }
 ],
 "metadata": {
  "kernelspec": {
   "display_name": "Python 3",
   "language": "python",
   "name": "python3"
  },
  "language_info": {
   "codemirror_mode": {
    "name": "ipython",
    "version": 3
   },
   "file_extension": ".py",
   "mimetype": "text/x-python",
   "name": "python",
   "nbconvert_exporter": "python",
   "pygments_lexer": "ipython3",
   "version": "3.8.10"
  }
 },
 "nbformat": 4,
 "nbformat_minor": 2
}
